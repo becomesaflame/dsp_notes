{
 "cells": [
  {
   "cell_type": "markdown",
   "id": "09ab7f39",
   "metadata": {},
   "source": [
    "[matrix math](matrix_math.ipynb)"
   ]
  },
  {
   "cell_type": "markdown",
   "id": "d822fc95",
   "metadata": {},
   "source": [
    "## STAP\n",
    "\n",
    "Darpa Perfect Suite:\n"
   ]
  }
 ],
 "metadata": {
  "kernelspec": {
   "display_name": "Python 3 (ipykernel)",
   "language": "python",
   "name": "python3"
  },
  "language_info": {
   "codemirror_mode": {
    "name": "ipython",
    "version": 3
   },
   "file_extension": ".py",
   "mimetype": "text/x-python",
   "name": "python",
   "nbconvert_exporter": "python",
   "pygments_lexer": "ipython3",
   "version": "3.9.7"
  }
 },
 "nbformat": 4,
 "nbformat_minor": 5
}
