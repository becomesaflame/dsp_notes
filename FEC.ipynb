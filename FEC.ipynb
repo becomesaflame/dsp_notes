{
 "cells": [
  {
   "cell_type": "markdown",
   "id": "364b3434",
   "metadata": {},
   "source": [
    "# Forward Error Correction (FEC)"
   ]
  },
  {
   "cell_type": "markdown",
   "id": "6e9bed94",
   "metadata": {},
   "source": [
    "##  Low-Density Parity-Check (LDPC) code\n",
    "\n",
    "https://en.wikipedia.org/wiki/Low-density_parity-check_code\n",
    "Described in IRIG 106-20\n",
    "\n",
    "Block code that maps an input block of $k$ data bits to an output block of $n$ code bits. \n",
    "\n",
    "The start of the block is identified with an Attached Synchronization Marker (ASM). \n",
    "\n",
    "Block sizes may be 1024 or 4096.\n",
    "Data rates may be 1/2, 2/3, or 4/5.\n",
    "Data rates are parameterized by $K/(K+2)$, where $K = 2$ for a 1/2 rate, $K=4$ for a 2/3 rate, and $K=8$ for a 4/5 rate.\n",
    "\n",
    "A parity code block is appended to each input information block. \n",
    "\n",
    "Generator matrices $G$ are defined for each data rate and block size. \n",
    "\n"
   ]
  },
  {
   "cell_type": "markdown",
   "id": "e29e2f23",
   "metadata": {},
   "source": [
    "From IRIG 106-20\n",
    "![LDPC Submatrix Sizes](./ldpc_submatrices.png)\n",
    "\n",
    "A parity check matrix $H$ is constructed from MxM submatrices. The parity check matrix is size $(k,n)$ where $k$ is the information block length and $n$ is the length of the information block plus codeblock. "
   ]
  },
  {
   "cell_type": "markdown",
   "id": "22effe4e",
   "metadata": {},
   "source": [
    "From IRIG 106-20\n",
    "![LDPC Computation](./ldpc.png)"
   ]
  }
 ],
 "metadata": {
  "kernelspec": {
   "display_name": "Python 3 (ipykernel)",
   "language": "python",
   "name": "python3"
  },
  "language_info": {
   "codemirror_mode": {
    "name": "ipython",
    "version": 3
   },
   "file_extension": ".py",
   "mimetype": "text/x-python",
   "name": "python",
   "nbconvert_exporter": "python",
   "pygments_lexer": "ipython3",
   "version": "3.9.7"
  }
 },
 "nbformat": 4,
 "nbformat_minor": 5
}
