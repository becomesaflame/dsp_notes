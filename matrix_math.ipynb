{
 "cells": [
  {
   "cell_type": "markdown",
   "id": "0a6b7ea1",
   "metadata": {},
   "source": [
    "# Matrix Math\n",
    "\n",
    "## Inner Product and Outer Product\n",
    "Youtube tutorial:\n",
    "https://www.youtube.com/watch?v=FCmH4MqbFGs\n",
    "\n",
    "Matrix algebra in python cheatsheet:\n",
    "https://www.tutorialspoint.com/matrix-manipulation-in-python"
   ]
  },
  {
   "cell_type": "markdown",
   "id": "bce69c0b",
   "metadata": {},
   "source": [
    "### Inner Product\n",
    "Inner product is the same as dot product.\n",
    "\n",
    "\n",
    "For matrices:  \n",
    "\n",
    "$X = \\begin{bmatrix}\n",
    "    x_{1} \\\\\n",
    "    x_{2} \\\\\n",
    "    x_{3} \n",
    "\\end{bmatrix}\n",
    "\\quad \\textrm{and} \\quad Y = \n",
    "\\begin{bmatrix}\n",
    "    y_{1} \\\\\n",
    "    y_{2} \\\\\n",
    "    y_{3} \n",
    "\\end{bmatrix}$\n",
    "\n",
    "The inner product is:  \n",
    "\n",
    "$\n",
    "X^{T} Y = \n",
    "\\begin{bmatrix}\n",
    "    x_{1} & x_{2} & x_{3} \n",
    "\\end{bmatrix}\n",
    "\\begin{bmatrix}\n",
    "    y_{1} \\\\\n",
    "    y_{2} \\\\\n",
    "    y_{3} \n",
    "\\end{bmatrix}  \n",
    "= x_{1} y_{1} + x_{2} y_{2} + x_{3} y_{3}\n",
    "$"
   ]
  },
  {
   "cell_type": "code",
   "execution_count": 43,
   "id": "8c648e6e",
   "metadata": {},
   "outputs": [
    {
     "name": "stdout",
     "output_type": "stream",
     "text": [
      "u = \n",
      "[[1 3 2]]\n",
      "v = \n",
      "[[2 4 6]]\n"
     ]
    }
   ],
   "source": [
    "import numpy as np\n",
    "u = np.array([[1, 3, 2]])\n",
    "v = np.array([[2, 4, 6]])\n",
    "print(\"u = \")\n",
    "print(u)\n",
    "print(\"v = \")\n",
    "print(v)"
   ]
  },
  {
   "cell_type": "markdown",
   "id": "ec48c966",
   "metadata": {},
   "source": [
    "Inner product is $u^{T}v$"
   ]
  },
  {
   "cell_type": "code",
   "execution_count": 44,
   "id": "2a25c17f",
   "metadata": {},
   "outputs": [
    {
     "name": "stdout",
     "output_type": "stream",
     "text": [
      "u.T =  [[1]\n",
      " [3]\n",
      " [2]]\n",
      "v = \n",
      "[[2 4 6]]\n",
      "iProd =\n",
      "[[ 2  6  4]\n",
      " [ 4 12  8]\n",
      " [ 6 18 12]]\n"
     ]
    }
   ],
   "source": [
    "print(\"u.T = \", u.T)\n",
    "print(\"v = \")\n",
    "print(v)\n",
    "iProd = np.multiply(u, v.T)\n",
    "print(\"iProd =\")\n",
    "print(iProd)\n"
   ]
  },
  {
   "cell_type": "markdown",
   "id": "f8bcb780",
   "metadata": {},
   "source": [
    "Turns out numpy mupltiply does an element-wise multiply. `np.dot()` can be used to do a dot product of arrays with the same dimensions.\n",
    "For other workarounds, see https://stackoverflow.com/questions/21562986/numpy-matrix-vector-multiplication"
   ]
  },
  {
   "cell_type": "markdown",
   "id": "a171e5cb",
   "metadata": {},
   "source": [
    "### Outer Product\n",
    "\n",
    "For matrices:  \n",
    "\n",
    "$X = \\begin{bmatrix}\n",
    "    x_{1} \\\\\n",
    "    x_{2} \\\\\n",
    "    x_{3} \n",
    "\\end{bmatrix}\n",
    "\\quad \\textrm{and} \\quad Y = \n",
    "\\begin{bmatrix}\n",
    "    y_{1} \\\\\n",
    "    y_{2} \\\\\n",
    "    y_{3} \n",
    "\\end{bmatrix}$\n",
    "\n",
    "The outer product is:  \n",
    "\n",
    "$\n",
    "X Y^{T} = \n",
    "\\begin{bmatrix}\n",
    "    y_{1} \\\\\n",
    "    y_{2} \\\\\n",
    "    y_{3} \n",
    "\\end{bmatrix}  \n",
    "\\begin{bmatrix}\n",
    "    x_{1} & x_{2} & x_{3} \n",
    "\\end{bmatrix}\n",
    "= \n",
    "\\begin{bmatrix}\n",
    "    x_{1} y_{1}  &  x_{1} y_{2}  &  x_{1} y_{3} \\\\\n",
    "    x_{2} y_{1}  &  x_{2} y_{2}  &  x_{2} y_{3} \\\\\n",
    "    x_{3} y_{1}  &  x_{3} y_{2}  &  x_{3} y_{3}\n",
    "\\end{bmatrix}\n",
    "$\n"
   ]
  },
  {
   "cell_type": "markdown",
   "id": "d25530b6",
   "metadata": {},
   "source": [
    "## Hermitian (Conjugate Transpose)\n",
    "\n",
    "The Hermitian function is equivalent to the conjugate transpose of a matrix.\n",
    "\n",
    "Taking the complex conjugate of a matrix means simply flipping the sign of any complex parts.\n",
    "\n",
    "$X = \n",
    "\\begin{bmatrix}\n",
    "    1 & 2 - 3i \\\\\n",
    "    5 & 7 + 2i\n",
    "\\end{bmatrix} \\quad\\quad\n",
    "\\bar{X} = \n",
    "\\begin{bmatrix}\n",
    "    1 & 2 + 3i \\\\\n",
    "    5 & 7 - 2i\n",
    "\\end{bmatrix}\n",
    "$\n",
    "\n",
    "So the Conjugate Transpose (Hermitian transform) would be:\n",
    "\n",
    "$X^{H} = \\bar{X^{T}} = \n",
    "\\begin{bmatrix}\n",
    "    1      & 5 \\\\\n",
    "    2 + 3i & 7 - 2i \\\\\n",
    "\\end{bmatrix}\n",
    "$"
   ]
  },
  {
   "cell_type": "markdown",
   "id": "19de49f1",
   "metadata": {},
   "source": [
    "## Covariance Matrix\n",
    "\n",
    "https://datascienceplus.com/understanding-the-covariance-matrix/\n",
    "\n",
    "Covariance is the degree to which two variables are linked.\n",
    "For a set of data x (e.g. height in a population) and a set of data y (e.g. weight in a population) the covariance is the average of (each x sample minus the average of x's, times each y sample minus the average of y's). \n",
    "\n",
    "The Covariance Matrix between variables a, b, and c relates each variable as follows:\n",
    "\n",
    "$C = C\\bar {C^{T}} = \n",
    "\\begin{bmatrix}\n",
    "    σ(a,a)  &  σ(a,b)  &  σ(a,c) \\\\\n",
    "    σ(b,a)  &  σ(b,b)  &  σ(b,c) \\\\\n",
    "    σ(c,a)  &  σ(c,b)  &  σ(c,c)\n",
    "\\end{bmatrix}$\n",
    "\n",
    "It can be computed by multiplying a matrix by its complex conjugate transpose."
   ]
  },
  {
   "cell_type": "markdown",
   "id": "a2fb943f",
   "metadata": {},
   "source": [
    "To demonstrate, generate random points with mean values $\\bar{x}, \\bar{y}$ at the origin and unit variance $σ^{2}(x) = σ^{2}(y) = 1$ which is also called white noise and has the identity matrix as the covariance matrix:"
   ]
  },
  {
   "cell_type": "code",
   "execution_count": 45,
   "id": "0dc63455",
   "metadata": {},
   "outputs": [
    {
     "data": {
      "image/png": "[encoded data removed]",
      "text/plain": [
       "<Figure size 864x576 with 1 Axes>"
      ]
     },
     "metadata": {},
     "output_type": "display_data"
    }
   ],
   "source": [
    "import numpy as np\n",
    "import matplotlib.pyplot as plt\n",
    "%matplotlib inline\n",
    "\n",
    "plt.style.use('ggplot')\n",
    "plt.rcParams['figure.figsize'] = (12, 8)\n",
    "\n",
    "# Normal distributed x and y vector with mean 0 and standard deviation 1\n",
    "x = np.random.normal(0, 1, 500)\n",
    "y = np.random.normal(0, 1, 500)\n",
    "X = np.vstack((x, y)).T\n",
    "\n",
    "plt.scatter(X[:, 0], X[:, 1])\n",
    "plt.title('Generated Data')\n",
    "plt.axis('equal');"
   ]
  },
  {
   "cell_type": "markdown",
   "id": "b847e23f",
   "metadata": {},
   "source": [
    "This case would mean that x and y are independent (or uncorrelated) and the covariance matrix C is  \n",
    "$C=\n",
    "\\begin{bmatrix}\n",
    "    σ^{2}_x  & 0 \\\\\n",
    "    0 & σ^{2}_y\n",
    "\\end{bmatrix}\n",
    "$\n",
    "\n",
    "We can check this by calculating the covariance matrix"
   ]
  },
  {
   "cell_type": "code",
   "execution_count": 47,
   "id": "cc265e67",
   "metadata": {},
   "outputs": [
    {
     "data": {
      "text/plain": [
       "array([[0.95066424, 0.00985021],\n",
       "       [0.00985021, 1.01507252]])"
      ]
     },
     "execution_count": 47,
     "metadata": {},
     "output_type": "execute_result"
    }
   ],
   "source": [
    "# Covariance\n",
    "def cov(x, y):\n",
    "    xbar, ybar = x.mean(), y.mean()\n",
    "    return np.sum((x - xbar)*(y - ybar))/(len(x) - 1)\n",
    "\n",
    "# Covariance matrix\n",
    "def cov_mat(X):\n",
    "    return np.array([[cov(X[0], X[0]), cov(X[0], X[1])], \\\n",
    "                     [cov(X[1], X[0]), cov(X[1], X[1])]])\n",
    "\n",
    "# Calculate covariance matrix \n",
    "cov_mat(X.T) # (or with np.cov(X.T))"
   ]
  },
  {
   "cell_type": "markdown",
   "id": "d77b9dfa",
   "metadata": {},
   "source": [
    "Which approximatelly gives us our expected covariance matrix with variances $σ^{2}_x = σ^{2}_y = 1$."
   ]
  },
  {
   "cell_type": "markdown",
   "id": "cf5b4be4",
   "metadata": {},
   "source": [
    "## Conjugates\n",
    "Conjugate of a complex number is its reflection about the real plane\n",
    "e.g the conjugate of $5-3i$ is $5 + 3i$. \n",
    "\n",
    "The conjugate of a matrix is taken by simply taking the conjugate of each element of the matrix.\n",
    "\n",
    "If you conjugate a matrix and transpose it, you have taken the the Hermitian transpose of it. A matrix that is equal to its Hermition transpose is said to be Hermitian. This is a property of covariance matrices\n"
   ]
  },
  {
   "cell_type": "markdown",
   "id": "68f6c840",
   "metadata": {},
   "source": [
    "## Least Squares\n",
    "\n",
    "The Least Squares problem is the problem of finding a best fit solution to an overconstrained system of equations.\n",
    "For example, if you have a number of points and want to find a best fit line for them. \n",
    "\n",
    "We want to solve for $β$.\n",
    "\n",
    "$Xβ = Y$\n",
    "\n",
    "We can't just multiply by X's inverse because it has no inverse, since it has more points than dimensions and is not square. \n",
    "\n",
    "$β = X^{-1}Y$\n",
    "\n",
    "Instead we try to minimize the error. Error function is given by:\n",
    "\n",
    "$\\sum (Y-\\hat{Y})^{2} = \\sum (Y - X\\hat{β})^{2}$\n",
    "\n",
    "Where the hats denote something that the [source](https://towardsdatascience.com/qr-matrix-factorization-15bae43a6b2) didn't explain.\n"
   ]
  },
  {
   "cell_type": "markdown",
   "id": "cdee89cc",
   "metadata": {},
   "source": [
    "## Vector projection\n",
    "\n",
    "The projection of vector $u$ onto vector $v$ is:\n",
    "\n",
    "$proj(v u) = \\dfrac{(u \\cdot v) v}{v \\cdot v}$\n",
    "\n",
    "### Explanation\n",
    "The magnitude of the projection of $u$ onto $v$ is:  \n",
    "\n",
    "$||u|| cos(θ)$  \n",
    "where θ is the angle between the vectors.\n",
    "\n",
    "The direction of the projection is the direction of $v$, which is:  \n",
    "\n",
    "$\\dfrac{v}{||v||}$\n",
    "\n",
    "The dot prouct gives:  \n",
    "\n",
    "$u \\cdot v = ||u|| ||v|| cos(θ)$\n",
    "\n",
    "Explanation and proof here (12.3.7)\n",
    "https://math.libretexts.org/Bookshelves/Calculus/Book%3A_Calculus_(OpenStax)/12%3A_Vectors_in_Space/12.3%3A_The_Dot_Product\n",
    "\n",
    "\n",
    "From the dot product equation we can get the magnitude of the projection:  \n",
    "\n",
    "$\\dfrac{u \\cdot v}{||v||} = ||u|| cos(θ)$  \n",
    "\n",
    "Multiplying that by the direction of the projection gives us the actual projection:  \n",
    "\n",
    "$proj(v u) = \\dfrac{u \\cdot v}{||v||} * \\dfrac{v}{||v||} = \\dfrac{(u \\cdot v) v}{v \\cdot v}$"
   ]
  },
  {
   "cell_type": "markdown",
   "id": "716ca9f3",
   "metadata": {},
   "source": [
    "## Gram-Schmidt Method \n",
    "\n",
    "A method for finding an orthonormal basis for a set of vectors. \n",
    "\n",
    "A **basis** is a set of vectors that spans the given set of vectors. This really just means that you need a vector in the basis that has a component in every dimension that's represented in the original set of vectors.\n",
    "\n",
    "An **orthogonal basis** is a basis in which all the vectors in the basis are orthogonal. Simple enough. They could be aligned with coordinate axes, or they could be rotated in any direction. \n",
    "\n",
    "An **orthonormal basis** is a basis where all the vectors are orthoginal and have length 1.\n",
    "\n",
    "First pick a vector in X. Say $x_{1} = u_{1}$.\n",
    "Next find a vector orthogonal to $u_{1}$ by projecting the next column of X, $x_{2}$, onto it, then subtracting the projection from $x_{2}$.\n",
    "\n",
    "$u_{2} = x_{2} - proj(u_{1} x_{2})$\n",
    "\n"
   ]
  },
  {
   "cell_type": "markdown",
   "id": "506ad337",
   "metadata": {},
   "source": [
    "## QR Decomposition\n",
    "\n",
    "A method for solving the Least Squares problem.\n",
    "\n",
    "The idea is to break down the $X$ matrix into matrices $QR$, where $Q$ is an orthogonal matrix and $R$ is a square upper/right triangular matrix.\n",
    "\n",
    "The inverse of an orthogonal matrix is its transpose. And since $R$ is square, it's invertable. This means that we can find the inverse of $Q$ and $R$ and solve the Least Squares problem like so:\n",
    "\n",
    "$\\hat{β} = (QR)^{-1} Y = R^{-1} Q^{T} Y$\n",
    "\n",
    "The way to find the QR factors of a matrix is to use the Gram-Schmidt process to first find Q. Then to find R we just multiply the original matrix by the transpose of Q.\n",
    "\n"
   ]
  },
  {
   "cell_type": "markdown",
   "id": "aafb2cbc",
   "metadata": {},
   "source": [
    "## Cholesky Decomposition"
   ]
  }
 ],
 "metadata": {
  "kernelspec": {
   "display_name": "Python 3 (ipykernel)",
   "language": "python",
   "name": "python3"
  },
  "language_info": {
   "codemirror_mode": {
    "name": "ipython",
    "version": 3
   },
   "file_extension": ".py",
   "mimetype": "text/x-python",
   "name": "python",
   "nbconvert_exporter": "python",
   "pygments_lexer": "ipython3",
   "version": "3.9.7"
  }
 },
 "nbformat": 4,
 "nbformat_minor": 5
}
