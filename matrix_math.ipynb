{
 "cells": [
  {
   "cell_type": "markdown",
   "id": "591d0250",
   "metadata": {},
   "source": [
    "# Matrix Math\n",
    "\n",
    "## Inner Product and Outer Product\n",
    "Youtube tutorial:\n",
    "https://www.youtube.com/watch?v=FCmH4MqbFGs\n",
    "\n",
    "Matrix algebra in python cheatsheet:\n",
    "https://www.tutorialspoint.com/matrix-manipulation-in-python"
   ]
  },
  {
   "cell_type": "markdown",
   "id": "2263661f",
   "metadata": {},
   "source": [
    "### Inner Product\n",
    "Inner product is the same as dot product\n",
    "\n",
    "For matrices:"
   ]
  },
  {
   "cell_type": "code",
   "execution_count": 23,
   "id": "bfbbed72",
   "metadata": {},
   "outputs": [
    {
     "name": "stdout",
     "output_type": "stream",
     "text": [
      "u = \n",
      "[[1 3 2]]\n",
      "v = \n",
      "[[2 4 6]]\n"
     ]
    }
   ],
   "source": [
    "import numpy as np\n",
    "u = np.array([[1, 3, 2]])\n",
    "v = np.array([[2, 4, 6]])\n",
    "print(\"u = \")\n",
    "print(u)\n",
    "print(\"v = \")\n",
    "print(v)"
   ]
  },
  {
   "cell_type": "markdown",
   "id": "c6acf332",
   "metadata": {},
   "source": [
    "Inner product is $u^{T}v$"
   ]
  },
  {
   "cell_type": "code",
   "execution_count": 40,
   "id": "c63407ed",
   "metadata": {},
   "outputs": [
    {
     "name": "stdout",
     "output_type": "stream",
     "text": [
      "u.T =  [[1]\n",
      " [3]\n",
      " [2]]\n",
      "v = \n",
      "[[2 4 6]]\n",
      "iProd =\n",
      "[[ 2  6  4]\n",
      " [ 4 12  8]\n",
      " [ 6 18 12]]\n"
     ]
    }
   ],
   "source": [
    "print(\"u.T = \", u.T)\n",
    "print(\"v = \")\n",
    "print(v)\n",
    "iProd = np.multiply(u, v.T)\n",
    "print(\"iProd =\")\n",
    "print(iProd)\n"
   ]
  },
  {
   "cell_type": "markdown",
   "id": "ad0e7d24",
   "metadata": {},
   "source": [
    "Turns out numpy mupltiply does an element-wise multiply. `np.dot()` can be used to do a dot product of arrays with the same dimensions.\n",
    "For other workarounds, see https://stackoverflow.com/questions/21562986/numpy-matrix-vector-multiplication"
   ]
  }
 ],
 "metadata": {
  "kernelspec": {
   "display_name": "Python 3 (ipykernel)",
   "language": "python",
   "name": "python3"
  },
  "language_info": {
   "codemirror_mode": {
    "name": "ipython",
    "version": 3
   },
   "file_extension": ".py",
   "mimetype": "text/x-python",
   "name": "python",
   "nbconvert_exporter": "python",
   "pygments_lexer": "ipython3",
   "version": "3.9.7"
  }
 },
 "nbformat": 4,
 "nbformat_minor": 5
}
