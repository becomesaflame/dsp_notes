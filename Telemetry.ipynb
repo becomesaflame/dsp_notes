{
 "cells": [
  {
   "cell_type": "markdown",
   "id": "474bec92",
   "metadata": {},
   "source": [
    "# Telemetry"
   ]
  },
  {
   "cell_type": "markdown",
   "id": "3091c9fa",
   "metadata": {},
   "source": [
    "## Pulse Code Modulation (PCM)\n",
    "\n"
   ]
  },
  {
   "cell_type": "code",
   "execution_count": 15,
   "id": "bec0ffec",
   "metadata": {},
   "outputs": [
    {
     "data": {
      "image/png": "[encoded data removed]",
      "text/plain": [
       "<Figure size 432x288 with 1 Axes>"
      ]
     },
     "metadata": {
      "needs_background": "light"
     },
     "output_type": "display_data"
    }
   ],
   "source": [
    "import matplotlib.pyplot as plt\n",
    "import numpy as np\n",
    "import time\n",
    "\n",
    "phase_accum = np.linspace(0, 4 * np.pi, 200)\n",
    "\n",
    "y = np.sin(phase_accum)\n",
    "\n",
    "plt.ion()\n",
    "\n",
    "fig, ax = plt.subplots()\n",
    "line1, = ax.plot(phase_accum, y)\n",
    "plt.axes(ax)\n",
    "\n",
    "for phase_offset in np.linspace(0, 2 * np.pi, 50):\n",
    "    phase = phase_accum + phase_offset\n",
    "    line1.set_ydata(np.sin(phase))\n",
    "    fig.canvas.draw()\n",
    "    fig.canvas.flush_events()\n",
    "    time.sleep(10/1000)\n",
    "\n",
    "\n",
    "# plt.show()  # not needed if ion (interactive mode) is set"
   ]
  },
  {
   "cell_type": "markdown",
   "id": "14819689",
   "metadata": {},
   "source": [
    "## Phase Shift Keying (PSK)\n",
    "As opposed to Amplitude Shift Keying (ASK), Frequency Shift Keying (FSK), or On/Off Keying (OOK). \n",
    "\n",
    "PSK is the same as Phase Modulation.\n",
    "\n",
    "Good intro to the concept here:\n",
    "https://www.electronics-notes.com/articles/radio/modulation/phase-modulation-what-is-pm-tutorial.php\n",
    "\n",
    "Helpful visualization from [wikipedia](https://en.wikipedia.org/wiki/Phase_modulation):\n",
    "![Phase Modulation](375px-Phase-modulation.gif)\n"
   ]
  },
  {
   "cell_type": "markdown",
   "id": "3cbe1339",
   "metadata": {},
   "source": [
    "### Binary PSK (BPSK) vs Quaternary PSK (QPSK)\n",
    "\n",
    "#### BPSK aka Differential PSK (DPSK)\n",
    "A.k.a 2-phase PSK or Phase Reversal Keying\n",
    "\n",
    "[PSK Basics Article](https://www.tutorialspoint.com/digital_communication/digital_communication_phase_shift_keying.htm)  \n",
    "[Wikipedia](https://en.wikipedia.org/wiki/Phase-shift_keying#Binary_phase-shift_keying_(BPSK))  \n",
    "\n",
    "Each 1 bit reverses the phase\n",
    "\n",
    "![Binary Phase Shift Keying](./bspk_modulated_output_wave.jpg)\n",
    "\n",
    "#### QPSK \n",
    "\n",
    "[Reference Article](https://www.allaboutcircuits.com/technical-articles/quadrature-phase-shift-keying-qpsk-modulation/)  \n",
    "[Wikipedia](https://en.wikipedia.org/wiki/Phase-shift_keying#Quadrature_phase-shift_keying_(QPSK))  \n",
    "\n",
    "QPSK transmits 2 bits per symbol.  \n",
    "A QPSK symbol doesn’t represent 0 or 1—it represents 00, 01, 10, or 11.\n",
    "\n",
    "![QPSK symbols](200px-QPSK_Gray_Coded.svg.png)\n",
    "Constellation diagram for QPSK with Gray coding. Each adjacent symbol only differs by one bit.\n",
    "\n",
    "The four QPSK phase shifts are 45°, 135°, 225°, and 315°.\n",
    "\n",
    "![QPSK Phase Shifts](TB_QPSK_1.webp)\n",
    "\n",
    "Summing I and Q signals that are either inverted or noninverted results in these four phase shifts.\n",
    "\n",
    "![QPSK Phase Combinations](TB_QPSK_2.webp)\n",
    "\n",
    "$\\displaystyle s_{n}(t)={\\sqrt {\\frac {2E_{s}}{T_{s}}}}\\cos \\left(2\\pi f_{c}t+(2n-1){\\frac {\\pi }{4}}\\right),\\quad n=1,2,3,4$\n",
    "\n",
    "This yields the four phases π/4, 3π/4, 5π/4 and 7π/4 as needed.\n",
    "\n",
    "This results in a two-dimensional signal space with unit basis functions:\n",
    "\n",
    "$\\displaystyle {\\begin{aligned}\\phi _{1}(t)&amp;={\\sqrt {\\frac {2}{T_{s}}}}\\cos \\left(2\\pi f_{c}t\\right)\\\\\\phi _{2}(t)&amp;={\\sqrt {\\frac {2}{T_{s}}}}\\sin \\left(2\\pi f_{c}t\\right)\\end{aligned}}$\n",
    "\n",
    "The first basis function is used as the in-phase component of the signal and the second as the quadrature component of the signal.\n",
    "\n",
    "Hence, the signal constellation consists of the signal-space 4 points\n",
    "\n",
    "$\\begin{pmatrix}\\pm {\\sqrt {\\frac {E_{s}}{2}}}&amp;\\pm {\\sqrt {\\frac {E_{s}}{2}}}\\end{pmatrix}$\n",
    "\n",
    "The factors of 1/2 indicate that the total power is split equally between the two carriers.\n",
    "\n",
    "![QPSK Implementation](600px-Transmisor_QPSK_2.png)\n",
    "\n",
    "#### OQPSK (Offset Quadrature Phase Shift Keying)\n",
    "\n",
    "[Wikipedia](https://en.wikipedia.org/wiki/Phase-shift_keying#Offset_QPSK_(OQPSK))  \n",
    "\n",
    "Offsets the phase of the two channels by half the symbol size.\n",
    "\n",
    "![OQPSK Timing Diagram](OQPSK_timing_diagram.png)\n",
    "\n",
    "This keeps a maximum of 90 degrees phase shift instead of 180 that's possible with QPSK.  It results in lower amplitude jumps between symbols.  \n",
    "\n",
    "#### SOQPSK (Shaped Offset Quadrature Phase Shift Keying)\n",
    "\n",
    "[IJESIT Article](http://www.ijesit.com/Volume%202/Issue%202/IJESIT201302_59.pdf)  \n",
    "\n",
    "Smooths the phase shifts between symbols, so that it moves smoothly between symbols on the phase circle instead of jumping.\n",
    "\n",
    "This is broadly classified as Continuous Phase Modulation (CPM).  \n",
    "\n",
    "Need:\n",
    "\"modulation schemes that introduce phase discontinuities will tend to\n",
    "introduce undesirable frequency side lobes when amplified through a non–linear amplifier. However, linear\n",
    "amplifiers are less power efficient (transmitted power versus power supplied) than non–linear amplifiers.\"\n",
    "\n",
    "\n",
    "\n",
    "\n",
    "#### Other\n",
    "DQPSK - [Differential QPSK](https://www.allaboutcircuits.com/technical-articles/differential-quadrature-phase-shift-keying-dqpsk-modulation/)  \n",
    "\n",
    "CQPSK - Coherent QPSK - demodulator must extract the reference wave from the signal and compare each symbol to it.  DQPSK compares each symbol to the previous symbol. DQPSK is easier to implement, but has more demodulation errors. \n"
   ]
  }
 ],
 "metadata": {
  "kernelspec": {
   "display_name": "Python 3 (ipykernel)",
   "language": "python",
   "name": "python3"
  },
  "language_info": {
   "codemirror_mode": {
    "name": "ipython",
    "version": 3
   },
   "file_extension": ".py",
   "mimetype": "text/x-python",
   "name": "python",
   "nbconvert_exporter": "python",
   "pygments_lexer": "ipython3",
   "version": "3.9.7"
  }
 },
 "nbformat": 4,
 "nbformat_minor": 5
}
