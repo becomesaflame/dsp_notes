{
 "cells": [
  {
   "cell_type": "markdown",
   "id": "15ca7909",
   "metadata": {},
   "source": [
    "# Filters"
   ]
  },
  {
   "cell_type": "markdown",
   "id": "b94bbbd0",
   "metadata": {},
   "source": [
    "## Linear Filters\n",
    "\n",
    "\n",
    "![Comparison of linear filter types](./Filters_order5.svg)\n",
    "By Geek3 - Own work, CC BY 4.0, https://commons.wikimedia.org/w/index.php?curid=53958748"
   ]
  },
  {
   "cell_type": "markdown",
   "id": "72a50ada",
   "metadata": {},
   "source": [
    "## Finite Impulse Response (FIR) Filter"
   ]
  },
  {
   "cell_type": "markdown",
   "id": "0aac01bd",
   "metadata": {},
   "source": [
    "##  Cascaded Integrator-Comb (CIC) Filter\n",
    "\n",
    "[A Beginner's Guide To Cascaded Integrator-Comb (CIC) Filters](https://www.dsprelated.com/showarticle/1337.php)\n",
    "\n",
    "Computationally-efficient implementations of narrowband lowpass filters, and are often embedded in hardware implementations of decimation, interpolation, and delta-sigma converter filtering\n"
   ]
  },
  {
   "cell_type": "markdown",
   "id": "bf6f9851",
   "metadata": {},
   "source": [
    "## Filter Design\n",
    "\n",
    "[Online filter design tool](http://t-filter.engineerjs.com/)"
   ]
  },
  {
   "cell_type": "markdown",
   "id": "c121bfc6",
   "metadata": {},
   "source": [
    "### Parks-McClellen Algorithm\n",
    "\n",
    "Iterative algorithm for finding the optimal Chebyshev finite impulse response (FIR) filter\n",
    "https://en.wikipedia.org/wiki/Parks%E2%80%93McClellan_filter_design_algorithm"
   ]
  },
  {
   "cell_type": "markdown",
   "id": "9a393216",
   "metadata": {},
   "source": []
  }
 ],
 "metadata": {
  "kernelspec": {
   "display_name": "Python 3 (ipykernel)",
   "language": "python",
   "name": "python3"
  },
  "language_info": {
   "codemirror_mode": {
    "name": "ipython",
    "version": 3
   },
   "file_extension": ".py",
   "mimetype": "text/x-python",
   "name": "python",
   "nbconvert_exporter": "python",
   "pygments_lexer": "ipython3",
   "version": "3.9.7"
  }
 },
 "nbformat": 4,
 "nbformat_minor": 5
}
